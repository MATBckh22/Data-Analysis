{
 "cells": [
  {
   "cell_type": "code",
   "execution_count": 3,
   "metadata": {},
   "outputs": [
    {
     "name": "stdout",
     "output_type": "stream",
     "text": [
      "Hello World\n",
      "Hello World\n",
      "Hello World\n",
      "Hello World\n",
      "Hello World\n",
      "x is 1\n"
     ]
    }
   ],
   "source": [
    "HW = \"Hello World\"\n",
    "for i in range(0,5,1): print(HW)\n",
    "x = 1\n",
    "if x == 1: print (\"x is\", x)"
   ]
  },
  {
   "cell_type": "code",
   "execution_count": 4,
   "metadata": {},
   "outputs": [
    {
     "name": "stdout",
     "output_type": "stream",
     "text": [
      "7\n",
      "7.0\n",
      "7.0\n",
      "myfloat is now int 7\n"
     ]
    }
   ],
   "source": [
    "myint = 7\n",
    "print(myint)\n",
    "myfloat = 7.0\n",
    "print(myfloat)\n",
    "myfloat = float(7)\n",
    "print(myfloat)\n",
    "\n",
    "#type casting\n",
    "myfloat = int(7)\n",
    "print(\"myfloat is now int\", myfloat)"
   ]
  },
  {
   "cell_type": "code",
   "execution_count": 5,
   "metadata": {},
   "outputs": [
    {
     "name": "stdout",
     "output_type": "stream",
     "text": [
      "3 4\n",
      "3\n"
     ]
    }
   ],
   "source": [
    "a,b = 3,4\n",
    "print(a,b)\n",
    "one = 1\n",
    "two = 2\n",
    "print(one + two)"
   ]
  },
  {
   "cell_type": "code",
   "execution_count": 6,
   "metadata": {},
   "outputs": [
    {
     "name": "stdout",
     "output_type": "stream",
     "text": [
      "<class 'float'> <class 'bool'> <class 'bool'> <class 'int'> <class 'NoneType'>\n"
     ]
    }
   ],
   "source": [
    "a = 1.2\n",
    "b = True\n",
    "c = False\n",
    "d = 10\n",
    "e = None\n",
    "print(type(a), type(b), type(c), type(d), type(e))"
   ]
  },
  {
   "cell_type": "code",
   "execution_count": 55,
   "metadata": {},
   "outputs": [
    {
     "name": "stdout",
     "output_type": "stream",
     "text": [
      "Hi, I’m doing good with Python\n",
      "Hi, I’m doing good with Python\n",
      "Hi, I’m doing good with Python\n",
      "Hi, I’m doing good with Python\n",
      "Hi, I’m doing good with Python\n",
      "10\n",
      "       +        \n",
      "       *        \n",
      "     *****      \n",
      "   *********    \n",
      " ********0****  \n",
      " 0   ******  0  \n",
      "    ********\n",
      "   **********\n",
      " ******0*******\n",
      "****************\n",
      "      :::       \n",
      "      :::       \n",
      "      :::       \n",
      "      :::       \n",
      "             ===============              \n",
      "              February 2024               \n",
      "             ===============              \n",
      "Sun   Mon   Tue   Wed   Thu   Fri   Sat   \n",
      "                  1     2     3     4     \n",
      "\n",
      "5     6     7     8     9     10    11    \n",
      "\n",
      "12    13    14    15    16    17    18    \n",
      "\n",
      "18    19    20    21    22    23    24    \n",
      "\n",
      "25    26    27    28    29    "
     ]
    }
   ],
   "source": [
    "#Tutorial 1\n",
    "str = \"Hi, I'm doing good with Python\"\n",
    "for i in range(5):\n",
    "    print(str)\n",
    "a = 5\n",
    "print(a+a)\n",
    "\n",
    "print('{:^16}'.format(\"+\"))\n",
    "print('{:^16}'.format(\"*\"))\n",
    "print('{:^16}'.format(5*\"*\"))\n",
    "print('{:^16}'.format(9*\"*\"))\n",
    "print('{:^16}'.format(8*\"*\" + \"0\" + 4*\"*\"))\n",
    "print('{:^16}'.format(\"0\"+ 3*\" \" + 6*\"*\" + 2*\" \" + \"0\"))\n",
    "print(4*\" \" + 8*\"*\")\n",
    "print(3*\" \" + 10*\"*\")\n",
    "print(\" \" + 6*\"*\" + \"0\" + 7*\"*\")\n",
    "print(16*\"*\")\n",
    "for i in range(4):\n",
    "    print('{:^16}'.format(3*\":\"))\n",
    "\n",
    "print('{:^42}'.format(15*\"=\"))\n",
    "print('{:^42}'.format(\"February 2024\"))\n",
    "print('{:^42}'.format(15*\"=\"))\n",
    "str = 3*\" \"\n",
    "print(\"Sun\"+str+\"Mon\"+str+\"Tue\"+str+\"Wed\"+str+\"Thu\"+str+\"Fri\"+str+\"Sat\"+str)\n",
    "print(18*\" \", end='')\n",
    "for i in range(1,5):\n",
    "    print('{:<6}'.format(i), end='')\n",
    "print(\"\\n\")\n",
    "for i in range(5,12):\n",
    "    print('{:<6}'.format(i), end='')\n",
    "print(\"\\n\")\n",
    "for i in range(12,19):\n",
    "    print('{:<6}'.format(i), end='')\n",
    "print(\"\\n\")\n",
    "for i in range(18,25):\n",
    "    print('{:<6}'.format(i), end='')\n",
    "print(\"\\n\")\n",
    "for i in range(25,30):\n",
    "    print('{:<6}'.format(i), end='')"
   ]
  },
  {
   "cell_type": "code",
   "execution_count": 65,
   "metadata": {},
   "outputs": [
    {
     "name": "stdout",
     "output_type": "stream",
     "text": [
      "*************************************************\n",
      "*           Welcome to Text Messenger           *\n",
      "*************************************************\n",
      "                              Logged in as: smol\n",
      "\n",
      "\n",
      "                    [1] View Contacts                                \n",
      "                    [2] Send Message                                 \n",
      "                    [3] View Messages                                \n",
      "                    [4] Settings                                     \n",
      "                    [5] Logout                                       \n",
      "\n",
      "\n",
      "*************************************************\n"
     ]
    }
   ],
   "source": [
    "prompt = input(\"Pls type in your username\")\n",
    "print(49*\"*\")\n",
    "print(\"*\" + '{:^47}'.format(\"Welcome to Text Messenger\") + \"*\")\n",
    "print(49*\"*\")\n",
    "\n",
    "print(30*\" \" + \"Logged in as:\", prompt)\n",
    "print(\"\\n\")\n",
    "print(20*\" \" + '{:<49}'.format(\"[1] View Contacts\"))\n",
    "print(20*\" \" + '{:<49}'.format(\"[2] Send Message\"))\n",
    "print(20*\" \" + '{:<49}'.format(\"[3] View Messages\"))\n",
    "print(20*\" \" + '{:<49}'.format(\"[4] Settings\"))\n",
    "print(20*\" \" + '{:<49}'.format(\"[5] Logout\"))\n",
    "print(\"\\n\")\n",
    "print(49*\"*\")"
   ]
  },
  {
   "cell_type": "code",
   "execution_count": 72,
   "metadata": {},
   "outputs": [
    {
     "name": "stdout",
     "output_type": "stream",
     "text": [
      "*************************************************\n",
      "*             Weather Forecast App              *\n",
      "*************************************************\n",
      "\n",
      "\n",
      "Enter location: Malaysia\n",
      "-------------------------------------------------\n",
      "\n",
      "Current Conditions:\n",
      "Temperature: 25°c\n",
      "Humidity: 70%\n",
      "Wind Speed: 10 km/h\n",
      "    \n",
      "-------------------------------------------------\n",
      "\n",
      "Forecast:\n",
      "Day 1: High 28°c, Low 20°c, Sunny\n",
      "Day 2: High 26°c, Low 18°c, Cloudy\n",
      "Day 3: High 29°c, Low 21°c, Thunderstorms\n",
      "\n",
      "-------------------------------------------------\n",
      "\n",
      "Settings\n",
      "[1] Units (Celsius/Fahrenheit)\n",
      "[2] Notifications\n",
      "[3] Help\n",
      "\n",
      "-------------------------------------------------\n",
      "Thank you for using the Weather Forecast App!\n",
      "*************************************************\n"
     ]
    }
   ],
   "source": [
    "location = input(\"Pls type in your location\")\n",
    "print(49*\"*\")\n",
    "print(\"*\" + '{:^47}'.format(\"Weather Forecast App\") + \"*\")\n",
    "print(49*\"*\")\n",
    "print(\"\\n\")\n",
    "print(\"Enter location:\", location)\n",
    "stringoflines = 49*\"-\"\n",
    "degree_sign = u'\\N{DEGREE SIGN}'\n",
    "print(stringoflines)\n",
    "print('''\n",
    "Current Conditions:\n",
    "Temperature: 25%sc\n",
    "Humidity: 70%%\n",
    "Wind Speed: 10 km/h\n",
    "    ''' % degree_sign)\n",
    "print(stringoflines)\n",
    "print('''\n",
    "Forecast:\n",
    "Day 1: High 28%sc, Low 20%sc, Sunny\n",
    "Day 2: High 26%sc, Low 18%sc, Cloudy\n",
    "Day 3: High 29%sc, Low 21%sc, Thunderstorms\n",
    "''' % (degree_sign,degree_sign,degree_sign,degree_sign,degree_sign,degree_sign))\n",
    "print(stringoflines)\n",
    "print('''\n",
    "Settings\n",
    "[1] Units (Celsius/Fahrenheit)\n",
    "[2] Notifications\n",
    "[3] Help\n",
    "''')\n",
    "print(stringoflines)\n",
    "print(\"Thank you for using the Weather Forecast App!\")\n",
    "print(49*\"*\")"
   ]
  },
  {
   "cell_type": "code",
   "execution_count": 74,
   "metadata": {},
   "outputs": [
    {
     "name": "stdout",
     "output_type": "stream",
     "text": [
      "\n",
      "    ---------------------------------------\n",
      "    |                                     |\n",
      "    |         Receipt for Purchase        |\n",
      "    |                                     |\n",
      "    | Date: February 22, 2024 2:21 PM     |\n",
      "    | -------------------------------     |\n",
      "    | Item 1            $10.00            |\n",
      "    | Item 2            $15.50            |\n",
      "    | Item 3            $20.25            |\n",
      "    | -------------------------------     |\n",
      "    | Subtotal          $45.75            |\n",
      "    | Tax (8%)          $3.66             |\n",
      "    | Total             $49.41            |\n",
      "    |                                     |\n",
      "    |  Thank you for your purchase!       |\n",
      "    |                                     |\n",
      "    ---------------------------------------\n",
      "\n"
     ]
    }
   ],
   "source": [
    "print('''\n",
    "    ---------------------------------------\n",
    "    |                                     |\n",
    "    |         Receipt for Purchase        |\n",
    "    |                                     |\n",
    "    | Date: February 22, 2024 2:21 PM     |\n",
    "    | -------------------------------     |\n",
    "    | Item 1            $10.00            |\n",
    "    | Item 2            $15.50            |\n",
    "    | Item 3            $20.25            |\n",
    "    | -------------------------------     |\n",
    "    | Subtotal          $45.75            |\n",
    "    | Tax (8%)          $3.66             |\n",
    "    | Total             $49.41            |\n",
    "    |                                     |\n",
    "    |  Thank you for your purchase!       |\n",
    "    |                                     |\n",
    "    ---------------------------------------\n",
    "''')"
   ]
  },
  {
   "cell_type": "code",
   "execution_count": 7,
   "metadata": {},
   "outputs": [
    {
     "name": "stdout",
     "output_type": "stream",
     "text": [
      "blah\n",
      "print method executed!\n",
      "here\n"
     ]
    }
   ],
   "source": [
    "class Myclass:\n",
    "    var = \"blah\"\n",
    "    def ClassFunction(self):\n",
    "        print(\"print method executed!\")\n",
    "\n",
    "expobject = Myclass()\n",
    "print(expobject.var)\n",
    "expobject.ClassFunction()\n",
    "\n",
    "expobject2 = Myclass()\n",
    "expobject2.var = \"here\"\n",
    "print(expobject2.var)"
   ]
  },
  {
   "cell_type": "code",
   "execution_count": 10,
   "metadata": {},
   "outputs": [
    {
     "name": "stdout",
     "output_type": "stream",
     "text": [
      "128\n"
     ]
    }
   ],
   "source": [
    "def Revenue(item, amount):\n",
    "    total_revenue = 0\n",
    "    for i in range(len(item)):\n",
    "        total_revenue += item[i] * amount[i]\n",
    "    return total_revenue\n",
    "\n",
    "items = [25, 5, 6, 7]\n",
    "amounts = [2, 5, 3, 5]\n",
    "print(Revenue(items, amounts))"
   ]
  },
  {
   "cell_type": "code",
   "execution_count": 11,
   "metadata": {},
   "outputs": [
    {
     "name": "stdout",
     "output_type": "stream",
     "text": [
      "128\n"
     ]
    }
   ],
   "source": [
    "class RevenueSum:\n",
    "    price = []\n",
    "    item_amount = []\n",
    "    def Revenue(self, item, amount):\n",
    "        total_revenue = 0\n",
    "        for i in range(len(item)):\n",
    "            total_revenue += item[i] * amount[i]\n",
    "        return total_revenue\n",
    "    \n",
    "sum_revenue = RevenueSum()\n",
    "sum_revenue.price = [25, 5, 6, 7]\n",
    "sum_revenue.item_amount = [2, 5, 3, 5]\n",
    "print(sum_revenue.Revenue(sum_revenue.price, sum_revenue.item_amount))"
   ]
  },
  {
   "cell_type": "markdown",
   "metadata": {},
   "source": [
    "## Dictionaries\n",
    "\n",
    "Dictionaries work with keys and values:\n",
    "\n",
    "- keys: any type of immutable object used to reference a value\n",
    "- values: any type of object as a value of the key"
   ]
  },
  {
   "cell_type": "code",
   "execution_count": 24,
   "metadata": {},
   "outputs": [
    {
     "name": "stdout",
     "output_type": "stream",
     "text": [
      "{'Pencil Case': 20.55, 'Pencil': 1.99, 'Eraser': 0.89}\n"
     ]
    }
   ],
   "source": [
    "prices = {\n",
    "    \"Pencil Case\" : 20.55,\n",
    "    \"Pencil\" : 1.99,\n",
    "    \"Eraser\" : 0.89\n",
    "}\n",
    "\n",
    "print(prices)"
   ]
  },
  {
   "cell_type": "markdown",
   "metadata": {},
   "source": [
    "### Iterating over Dictionaries\n",
    "\n",
    "Dictionaries can be iterated through loops like a list/array. Though, it is not ordered, this means that numeric counters aren't allowed to be used to iterate over dictionaries. Instead, we use its' keys and values:"
   ]
  },
  {
   "cell_type": "code",
   "execution_count": 25,
   "metadata": {},
   "outputs": [
    {
     "name": "stdout",
     "output_type": "stream",
     "text": [
      "The price of item Pencil Case is 20.55\n",
      "The price of item Pencil is 1.99\n",
      "The price of item Eraser is 0.89\n"
     ]
    }
   ],
   "source": [
    "for item, price in prices.items():\n",
    "    print(\"The price of item %s is %.2f\" % (item, price))"
   ]
  },
  {
   "cell_type": "markdown",
   "metadata": {},
   "source": [
    "### Removing Keys\n",
    "\n",
    "We can use `del` or `pop()` to remove any key from the dictionary:"
   ]
  },
  {
   "cell_type": "code",
   "execution_count": 26,
   "metadata": {},
   "outputs": [
    {
     "name": "stdout",
     "output_type": "stream",
     "text": [
      "{'Pencil Case': 20.55, 'Pencil': 1.99}\n"
     ]
    }
   ],
   "source": [
    "prices.pop(\"Eraser\")\n",
    "print(prices)"
   ]
  },
  {
   "cell_type": "code",
   "execution_count": 27,
   "metadata": {},
   "outputs": [
    {
     "name": "stdout",
     "output_type": "stream",
     "text": [
      "{'Pencil Case': 20.55}\n"
     ]
    }
   ],
   "source": [
    "del prices[\"Pencil\"]\n",
    "print(prices)"
   ]
  }
 ],
 "metadata": {
  "kernelspec": {
   "display_name": "Python 3",
   "language": "python",
   "name": "python3"
  },
  "language_info": {
   "codemirror_mode": {
    "name": "ipython",
    "version": 3
   },
   "file_extension": ".py",
   "mimetype": "text/x-python",
   "name": "python",
   "nbconvert_exporter": "python",
   "pygments_lexer": "ipython3",
   "version": "3.10.7"
  }
 },
 "nbformat": 4,
 "nbformat_minor": 2
}
