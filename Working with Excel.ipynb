{
 "cells": [
  {
   "cell_type": "markdown",
   "metadata": {},
   "source": [
    "# Working with Excel\n",
    "\n",
    "In this section, we will import large datasets from an excel spreadsheet using `pandas`.\n",
    "\n",
    "## Dataframe \n",
    "\n",
    "Dataframes is an object treated as a database. "
   ]
  },
  {
   "cell_type": "code",
   "execution_count": 11,
   "metadata": {},
   "outputs": [
    {
     "data": {
      "text/html": [
       "<div>\n",
       "<style scoped>\n",
       "    .dataframe tbody tr th:only-of-type {\n",
       "        vertical-align: middle;\n",
       "    }\n",
       "\n",
       "    .dataframe tbody tr th {\n",
       "        vertical-align: top;\n",
       "    }\n",
       "\n",
       "    .dataframe thead th {\n",
       "        text-align: right;\n",
       "    }\n",
       "</style>\n",
       "<table border=\"1\" class=\"dataframe\">\n",
       "  <thead>\n",
       "    <tr style=\"text-align: right;\">\n",
       "      <th></th>\n",
       "      <th>Order ID</th>\n",
       "      <th>Product</th>\n",
       "      <th>Category</th>\n",
       "      <th>Amount</th>\n",
       "      <th>Date</th>\n",
       "      <th>Country</th>\n",
       "    </tr>\n",
       "  </thead>\n",
       "  <tbody>\n",
       "    <tr>\n",
       "      <th>0</th>\n",
       "      <td>1</td>\n",
       "      <td>Carrots</td>\n",
       "      <td>Vegetables</td>\n",
       "      <td>4270</td>\n",
       "      <td>2012-01-06</td>\n",
       "      <td>United States</td>\n",
       "    </tr>\n",
       "    <tr>\n",
       "      <th>1</th>\n",
       "      <td>2</td>\n",
       "      <td>Broccoli</td>\n",
       "      <td>Vegetables</td>\n",
       "      <td>8239</td>\n",
       "      <td>2012-01-07</td>\n",
       "      <td>United Kingdom</td>\n",
       "    </tr>\n",
       "    <tr>\n",
       "      <th>2</th>\n",
       "      <td>3</td>\n",
       "      <td>Banana</td>\n",
       "      <td>Fruit</td>\n",
       "      <td>617</td>\n",
       "      <td>2012-01-08</td>\n",
       "      <td>United States</td>\n",
       "    </tr>\n",
       "    <tr>\n",
       "      <th>3</th>\n",
       "      <td>4</td>\n",
       "      <td>Banana</td>\n",
       "      <td>Fruit</td>\n",
       "      <td>8384</td>\n",
       "      <td>2012-01-10</td>\n",
       "      <td>Canada</td>\n",
       "    </tr>\n",
       "    <tr>\n",
       "      <th>4</th>\n",
       "      <td>5</td>\n",
       "      <td>Beans</td>\n",
       "      <td>Vegetables</td>\n",
       "      <td>2626</td>\n",
       "      <td>2012-01-10</td>\n",
       "      <td>Germany</td>\n",
       "    </tr>\n",
       "  </tbody>\n",
       "</table>\n",
       "</div>"
      ],
      "text/plain": [
       "   Order ID   Product    Category  Amount       Date         Country\n",
       "0         1   Carrots  Vegetables    4270 2012-01-06   United States\n",
       "1         2  Broccoli  Vegetables    8239 2012-01-07  United Kingdom\n",
       "2         3    Banana       Fruit     617 2012-01-08   United States\n",
       "3         4    Banana       Fruit    8384 2012-01-10          Canada\n",
       "4         5     Beans  Vegetables    2626 2012-01-10         Germany"
      ]
     },
     "execution_count": 11,
     "metadata": {},
     "output_type": "execute_result"
    }
   ],
   "source": [
    "import pandas as pd\n",
    "import numpy as np\n",
    "import matplotlib.pyplot as plt\n",
    "\n",
    "data = pd.read_excel(\"D:/Downloads/vegetable.xlsx\")\n",
    "data.head()"
   ]
  },
  {
   "cell_type": "code",
   "execution_count": 12,
   "metadata": {},
   "outputs": [
    {
     "name": "stdout",
     "output_type": "stream",
     "text": [
      "     Order ID   Product    Category  Amount       Date         Country\n",
      "0           1   Carrots  Vegetables    4270 2012-01-06   United States\n",
      "1           2  Broccoli  Vegetables    8239 2012-01-07  United Kingdom\n",
      "2           3    Banana       Fruit     617 2012-01-08   United States\n",
      "3           4    Banana       Fruit    8384 2012-01-10          Canada\n",
      "4           5     Beans  Vegetables    2626 2012-01-10         Germany\n",
      "..        ...       ...         ...     ...        ...             ...\n",
      "208       209     Apple       Fruit    1777 2012-12-28          France\n",
      "209       210     Beans  Vegetables     680 2012-12-28          France\n",
      "210       211    Orange       Fruit     958 2012-12-29   United States\n",
      "211       212   Carrots  Vegetables    2613 2012-12-29       Australia\n",
      "212       213   Carrots  Vegetables     339 2012-12-30       Australia\n",
      "\n",
      "[213 rows x 6 columns]\n"
     ]
    },
    {
     "data": {
      "text/plain": [
       "pandas.core.frame.DataFrame"
      ]
     },
     "execution_count": 12,
     "metadata": {},
     "output_type": "execute_result"
    }
   ],
   "source": [
    "print(data)\n",
    "type(data)"
   ]
  },
  {
   "cell_type": "markdown",
   "metadata": {},
   "source": [
    "Use `groupby` and `sum` to group categorial data and find the sum of amount of sold items."
   ]
  },
  {
   "cell_type": "code",
   "execution_count": 13,
   "metadata": {},
   "outputs": [
    {
     "data": {
      "text/plain": [
       "Category\n",
       "Fruit         693069\n",
       "Vegetables    336665\n",
       "Name: Amount, dtype: int64"
      ]
     },
     "execution_count": 13,
     "metadata": {},
     "output_type": "execute_result"
    }
   ],
   "source": [
    "vegetable_column = 'Category'\n",
    "amount_sold = 'Amount'\n",
    "data.groupby(vegetable_column)[amount_sold].sum()"
   ]
  },
  {
   "cell_type": "markdown",
   "metadata": {},
   "source": [
    "- `head()` allows us to read the first few rows of the data set.\n",
    "- `type()` returns the type of the object (dataframe)\n",
    "- u can also print the full list of the data set with `print()`"
   ]
  },
  {
   "cell_type": "code",
   "execution_count": 14,
   "metadata": {},
   "outputs": [
    {
     "data": {
      "text/html": [
       "<div>\n",
       "<style scoped>\n",
       "    .dataframe tbody tr th:only-of-type {\n",
       "        vertical-align: middle;\n",
       "    }\n",
       "\n",
       "    .dataframe tbody tr th {\n",
       "        vertical-align: top;\n",
       "    }\n",
       "\n",
       "    .dataframe thead th {\n",
       "        text-align: right;\n",
       "    }\n",
       "</style>\n",
       "<table border=\"1\" class=\"dataframe\">\n",
       "  <thead>\n",
       "    <tr style=\"text-align: right;\">\n",
       "      <th></th>\n",
       "      <th>Order ID</th>\n",
       "      <th>Amount</th>\n",
       "      <th>Date</th>\n",
       "    </tr>\n",
       "  </thead>\n",
       "  <tbody>\n",
       "    <tr>\n",
       "      <th>count</th>\n",
       "      <td>213.000000</td>\n",
       "      <td>213.000000</td>\n",
       "      <td>213</td>\n",
       "    </tr>\n",
       "    <tr>\n",
       "      <th>mean</th>\n",
       "      <td>107.000000</td>\n",
       "      <td>4834.431925</td>\n",
       "      <td>2012-06-26 17:00:50.704225280</td>\n",
       "    </tr>\n",
       "    <tr>\n",
       "      <th>min</th>\n",
       "      <td>1.000000</td>\n",
       "      <td>107.000000</td>\n",
       "      <td>2012-01-06 00:00:00</td>\n",
       "    </tr>\n",
       "    <tr>\n",
       "      <th>25%</th>\n",
       "      <td>54.000000</td>\n",
       "      <td>2417.000000</td>\n",
       "      <td>2012-04-01 00:00:00</td>\n",
       "    </tr>\n",
       "    <tr>\n",
       "      <th>50%</th>\n",
       "      <td>107.000000</td>\n",
       "      <td>4781.000000</td>\n",
       "      <td>2012-06-04 00:00:00</td>\n",
       "    </tr>\n",
       "    <tr>\n",
       "      <th>75%</th>\n",
       "      <td>160.000000</td>\n",
       "      <td>7223.000000</td>\n",
       "      <td>2012-09-19 00:00:00</td>\n",
       "    </tr>\n",
       "    <tr>\n",
       "      <th>max</th>\n",
       "      <td>213.000000</td>\n",
       "      <td>9990.000000</td>\n",
       "      <td>2012-12-30 00:00:00</td>\n",
       "    </tr>\n",
       "    <tr>\n",
       "      <th>std</th>\n",
       "      <td>61.631972</td>\n",
       "      <td>2765.396708</td>\n",
       "      <td>NaN</td>\n",
       "    </tr>\n",
       "  </tbody>\n",
       "</table>\n",
       "</div>"
      ],
      "text/plain": [
       "         Order ID       Amount                           Date\n",
       "count  213.000000   213.000000                            213\n",
       "mean   107.000000  4834.431925  2012-06-26 17:00:50.704225280\n",
       "min      1.000000   107.000000            2012-01-06 00:00:00\n",
       "25%     54.000000  2417.000000            2012-04-01 00:00:00\n",
       "50%    107.000000  4781.000000            2012-06-04 00:00:00\n",
       "75%    160.000000  7223.000000            2012-09-19 00:00:00\n",
       "max    213.000000  9990.000000            2012-12-30 00:00:00\n",
       "std     61.631972  2765.396708                            NaN"
      ]
     },
     "execution_count": 14,
     "metadata": {},
     "output_type": "execute_result"
    }
   ],
   "source": [
    "data.describe()"
   ]
  },
  {
   "cell_type": "markdown",
   "metadata": {},
   "source": [
    "`describe()` returns descriptive statistics such as mean, standard deviation, min and max values, as well as the quartiles. U can also output additional statistical data as follow:"
   ]
  },
  {
   "cell_type": "code",
   "execution_count": 15,
   "metadata": {},
   "outputs": [
    {
     "data": {
      "text/html": [
       "<div>\n",
       "<style scoped>\n",
       "    .dataframe tbody tr th:only-of-type {\n",
       "        vertical-align: middle;\n",
       "    }\n",
       "\n",
       "    .dataframe tbody tr th {\n",
       "        vertical-align: top;\n",
       "    }\n",
       "\n",
       "    .dataframe thead th {\n",
       "        text-align: right;\n",
       "    }\n",
       "</style>\n",
       "<table border=\"1\" class=\"dataframe\">\n",
       "  <thead>\n",
       "    <tr style=\"text-align: right;\">\n",
       "      <th></th>\n",
       "      <th>Order ID</th>\n",
       "      <th>Amount</th>\n",
       "    </tr>\n",
       "  </thead>\n",
       "  <tbody>\n",
       "    <tr>\n",
       "      <th>Order ID</th>\n",
       "      <td>1.000000</td>\n",
       "      <td>-0.001131</td>\n",
       "    </tr>\n",
       "    <tr>\n",
       "      <th>Amount</th>\n",
       "      <td>-0.001131</td>\n",
       "      <td>1.000000</td>\n",
       "    </tr>\n",
       "  </tbody>\n",
       "</table>\n",
       "</div>"
      ],
      "text/plain": [
       "          Order ID    Amount\n",
       "Order ID  1.000000 -0.001131\n",
       "Amount   -0.001131  1.000000"
      ]
     },
     "execution_count": 15,
     "metadata": {},
     "output_type": "execute_result"
    }
   ],
   "source": [
    "data.corr(numeric_only = True)"
   ]
  },
  {
   "cell_type": "code",
   "execution_count": 16,
   "metadata": {},
   "outputs": [
    {
     "name": "stdout",
     "output_type": "stream",
     "text": [
      "Your investment grew into 2593.74\n",
      "The time value of money 1593.74\n"
     ]
    }
   ],
   "source": [
    "investment = 1000\n",
    "interest = 0.1\n",
    "years = 10\n",
    "future_value = (1 + interest)**years * investment\n",
    "print(\"Your investment grew into %.2f\" % future_value)\n",
    "print(\"The time value of money %.2f\" % (future_value - investment))"
   ]
  },
  {
   "cell_type": "code",
   "execution_count": 17,
   "metadata": {},
   "outputs": [
    {
     "data": {
      "image/png": "[encoded data removed]",
      "text/plain": [
       "<Figure size 640x480 with 1 Axes>"
      ]
     },
     "metadata": {},
     "output_type": "display_data"
    }
   ],
   "source": [
    "deposit = 1\n",
    "# Vary the years beween 0 and 10\n",
    "years = np.linspace(0, 10, 100)\n",
    "for interest in [0, 5, 10, 15, 20]:\n",
    " investment= (1 + interest/100)**years * deposit\n",
    " ax = plt.gca()\n",
    " ax.plot(years, investment, label=('Interest rate: %d '% interest))\n",
    " ax.set_ylim(0, 10)\n",
    " ax.grid(True)\n",
    " plt.title('Time Value of Money')\n",
    " plt.xlabel(\"Years\")\n",
    " plt.ylabel(\"Value of Money\")\n",
    " ax.legend()\n",
    "# If I put this in the for loop, then Python prints out a graph for each interest rate\n",
    "plt.show()"
   ]
  },
  {
   "cell_type": "code",
   "execution_count": 18,
   "metadata": {},
   "outputs": [
    {
     "name": "stdout",
     "output_type": "stream",
     "text": [
      "Your future cash flow is worth 78.35 today.\n",
      "\n",
      "Your money today will grow into 100.00.\n"
     ]
    }
   ],
   "source": [
    "investment = 100\n",
    "interest = 0.05\n",
    "years = 5\n",
    "present_value = investment / (1 + interest)**years\n",
    "print(\"Your future cash flow is worth %.2f today.\\n\" % present_value)\n",
    "# Let's invest this present value and earn interest for five years.\n",
    "future_value = present_value * (1 + interest)**years\n",
    "print(\"Your money today will grow into %.2f.\" % future_value)\n"
   ]
  },
  {
   "cell_type": "code",
   "execution_count": 19,
   "metadata": {},
   "outputs": [
    {
     "name": "stdout",
     "output_type": "stream",
     "text": [
      "The present value is 90.91 today for the FV of 100.00 in 1 years.\n",
      "\n",
      "The present value is 124.18 today for the FV of 200.00 in 5 years.\n",
      "\n",
      "The present value is 115.66 today for the FV of 300.00 in 10 years.\n",
      "\n"
     ]
    }
   ],
   "source": [
    "interest = 0.10\n",
    "investments = { 1:100, 5: 200, 10: 300 }\n",
    "for years, amount in investments.items():\n",
    " present_value = amount / (1 + interest)**years\n",
    " print(\"The present value is %.2f today for the FV of %.2f in %d years.\\n\" % (present_value, amount, years))\n"
   ]
  },
  {
   "cell_type": "code",
   "execution_count": 25,
   "metadata": {},
   "outputs": [
    {
     "name": "stdout",
     "output_type": "stream",
     "text": [
      "0   -107\n",
      "1      5\n",
      "2      5\n",
      "3      5\n",
      "4      5\n",
      "5    105\n",
      "Name: Cashflow, dtype: int64\n",
      "3.45\n"
     ]
    }
   ],
   "source": [
    "import pandas as pd\n",
    "import numpy_financial as npf\n",
    "# You may have to install numpy_financial and restart kernel\n",
    "cashflow = pd.Series(index=[0,1,2,3,4,5], name='Cashflow', data=[-107,5,5,5,5,105])\n",
    "print(cashflow)\n",
    "NPV = 100 * npf.irr(cashflow)\n",
    "formatted_NPV = format(NPV, \".2f\")\n",
    "print(formatted_NPV)"
   ]
  }
 ],
 "metadata": {
  "kernelspec": {
   "display_name": "Python 3",
   "language": "python",
   "name": "python3"
  },
  "language_info": {
   "codemirror_mode": {
    "name": "ipython",
    "version": 3
   },
   "file_extension": ".py",
   "mimetype": "text/x-python",
   "name": "python",
   "nbconvert_exporter": "python",
   "pygments_lexer": "ipython3",
   "version": "3.10.7"
  }
 },
 "nbformat": 4,
 "nbformat_minor": 2
}
